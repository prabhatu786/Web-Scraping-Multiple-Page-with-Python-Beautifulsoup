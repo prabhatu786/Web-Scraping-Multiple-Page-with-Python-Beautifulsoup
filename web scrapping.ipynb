{
 "cells": [
  {
   "cell_type": "markdown",
   "metadata": {},
   "source": [
    "## imports\n"
   ]
  },
  {
   "cell_type": "code",
   "execution_count": 1,
   "metadata": {},
   "outputs": [],
   "source": [
    "import pandas as pd \n",
    "from bs4 import  BeautifulSoup\n",
    "import requests as rt"
   ]
  },
  {
   "cell_type": "markdown",
   "metadata": {},
   "source": [
    "## HTTP Request\n",
    "\n",
    "store website in vairiable"
   ]
  },
  {
   "cell_type": "code",
   "execution_count": 2,
   "metadata": {},
   "outputs": [],
   "source": [
    "website='https://www.coingecko.com/en'"
   ]
  },
  {
   "cell_type": "code",
   "execution_count": 3,
   "metadata": {},
   "outputs": [],
   "source": [
    "response= rt.get(website)"
   ]
  },
  {
   "cell_type": "code",
   "execution_count": 4,
   "metadata": {},
   "outputs": [
    {
     "data": {
      "text/plain": [
       "200"
      ]
     },
     "execution_count": 4,
     "metadata": {},
     "output_type": "execute_result"
    }
   ],
   "source": [
    "response.status_code"
   ]
  },
  {
   "cell_type": "code",
   "execution_count": 5,
   "metadata": {},
   "outputs": [],
   "source": [
    "soup= BeautifulSoup(response.content,'html.parser') "
   ]
  },
  {
   "cell_type": "code",
   "execution_count": 25,
   "metadata": {},
   "outputs": [],
   "source": [
    "#soup"
   ]
  },
  {
   "cell_type": "markdown",
   "metadata": {},
   "source": [
    "## Result"
   ]
  },
  {
   "cell_type": "code",
   "execution_count": 26,
   "metadata": {},
   "outputs": [],
   "source": [
    "results= soup.find('table',{'class':'table-scrollable'}).find('tbody').find_all('tr')"
   ]
  },
  {
   "cell_type": "code",
   "execution_count": 27,
   "metadata": {},
   "outputs": [
    {
     "data": {
      "text/plain": [
       "100"
      ]
     },
     "execution_count": 27,
     "metadata": {},
     "output_type": "execute_result"
    }
   ],
   "source": [
    "len(result)"
   ]
  },
  {
   "cell_type": "markdown",
   "metadata": {},
   "source": [
    "## target Necessary data\n",
    "\n"
   ]
  },
  {
   "cell_type": "code",
   "execution_count": 10,
   "metadata": {},
   "outputs": [],
   "source": [
    "# Name\n",
    "# Price\n",
    "# 1h Change\n",
    "# 24h change\n",
    "# 7d Change\n",
    "# 24h volume\n",
    "# supply\n"
   ]
  },
  {
   "cell_type": "code",
   "execution_count": 11,
   "metadata": {},
   "outputs": [
    {
     "data": {
      "text/plain": [
       "'Bitcoin'"
      ]
     },
     "execution_count": 11,
     "metadata": {},
     "output_type": "execute_result"
    }
   ],
   "source": [
    "# name\n",
    "result[0].find('a',{'class':'tw-hidden lg:tw-flex font-bold tw-items-center tw-justify-between'}).get_text().strip()"
   ]
  },
  {
   "cell_type": "code",
   "execution_count": 12,
   "metadata": {},
   "outputs": [
    {
     "data": {
      "text/plain": [
       "'$46,066'"
      ]
     },
     "execution_count": 12,
     "metadata": {},
     "output_type": "execute_result"
    }
   ],
   "source": [
    "# price\n",
    "result[0].find('td',{'class':'td-price'}).get_text().strip()"
   ]
  },
  {
   "cell_type": "code",
   "execution_count": 13,
   "metadata": {},
   "outputs": [
    {
     "data": {
      "text/plain": [
       "'-0.2%'"
      ]
     },
     "execution_count": 13,
     "metadata": {},
     "output_type": "execute_result"
    }
   ],
   "source": [
    "#1h Change\n",
    "result[0].find('td',{'class':'td-change1h'}).get_text().strip()"
   ]
  },
  {
   "cell_type": "code",
   "execution_count": 14,
   "metadata": {},
   "outputs": [
    {
     "data": {
      "text/plain": [
       "'1.5%'"
      ]
     },
     "execution_count": 14,
     "metadata": {},
     "output_type": "execute_result"
    }
   ],
   "source": [
    "# 24h change\n",
    "result[0].find('td',{'class':'td-change24h'}).get_text().strip()"
   ]
  },
  {
   "cell_type": "code",
   "execution_count": 15,
   "metadata": {},
   "outputs": [
    {
     "data": {
      "text/plain": [
       "'20.1%'"
      ]
     },
     "execution_count": 15,
     "metadata": {},
     "output_type": "execute_result"
    }
   ],
   "source": [
    "# 7d change\n",
    "result[0].find('td',{'class':'td-change7d'}).get_text().strip()"
   ]
  },
  {
   "cell_type": "code",
   "execution_count": 16,
   "metadata": {},
   "outputs": [
    {
     "data": {
      "text/plain": [
       "'$36,417,385,673'"
      ]
     },
     "execution_count": 16,
     "metadata": {},
     "output_type": "execute_result"
    }
   ],
   "source": [
    "# 24h volume\n",
    "result[0].find('td',{'class':'td-liquidity_score'}).get_text().strip()"
   ]
  },
  {
   "cell_type": "code",
   "execution_count": 17,
   "metadata": {},
   "outputs": [
    {
     "data": {
      "text/plain": [
       "'$865,181,173,682'"
      ]
     },
     "execution_count": 17,
     "metadata": {},
     "output_type": "execute_result"
    }
   ],
   "source": [
    "# market capture\n",
    "result[0].find('td',{'class':'td-market_cap'}).get_text().strip()"
   ]
  },
  {
   "cell_type": "markdown",
   "metadata": {},
   "source": [
    "# put everything inside the loops"
   ]
  },
  {
   "cell_type": "code",
   "execution_count": 35,
   "metadata": {},
   "outputs": [],
   "source": [
    "# empty list\n",
    "Name = []\n",
    "Price= []\n",
    "Change_1h= []\n",
    "change_24h= []\n",
    "change_7d= []\n",
    "volume_24h= []\n",
    "market_capture= []\n",
    "\n",
    "for result in results:\n",
    "    #nmae\n",
    "    try:\n",
    "        Name.append(result.find('a',{'class':'tw-hidden lg:tw-flex font-bold tw-items-center tw-justify-between'}).get_text().strip())\n",
    "    except:\n",
    "        Name.append('n/a')\n",
    "    #price\n",
    "    try:\n",
    "        Price.append(result.find('td',{'class':'td-price'}).get_text().strip())\n",
    "    except:\n",
    "        Price.append('n/a')\n",
    "\n",
    "    #Change_1h\n",
    "    try:\n",
    "        Change_1h.append(result.find('td',{'class':'td-change1h'}).get_text().strip())\n",
    "    except:\n",
    "        Change_1h.append('n/a')\n",
    "\n",
    "    #change_24h\n",
    "    try:\n",
    "        change_24h.append(result.find('td',{'class':'td-change24h'}).get_text().strip())\n",
    "    except:\n",
    "        change_24h.append('n/a')\n",
    "\n",
    "    # change_7d\n",
    "    try:\n",
    "        change_7d.append(result.find('td',{'class':'td-change7d'}).get_text().strip())\n",
    "    except:\n",
    "        change_7d.append('n/a')\n",
    "        \n",
    "    # volume_24h\n",
    "    try:\n",
    "        volume_24h.append(result.find('td',{'class':'td-liquidity_score'}).get_text().strip())\n",
    "    except:\n",
    "        volume_24h.append('n/a')\n",
    "\n",
    "     # Market_Capture\n",
    "    try:\n",
    "        market_capture.append(result.find('td',{'class':'td-market_cap'}).get_text().strip())\n",
    "    except:\n",
    "        market_capture.append('n/a')\n",
    "\n",
    "\n"
   ]
  },
  {
   "cell_type": "markdown",
   "metadata": {},
   "source": [
    "# Create pandas dataframe"
   ]
  },
  {
   "cell_type": "code",
   "execution_count": 41,
   "metadata": {},
   "outputs": [],
   "source": [
    "crypto_df=pd.DataFrame({'coin':Name ,'price':Price, \"Change_1h\":Change_1h, \"change_24h\":change_24h ,\n",
    "            'change_7d':change_7d , 'volume_24h':volume_24h , ' market_capture': market_capture})"
   ]
  },
  {
   "cell_type": "code",
   "execution_count": 42,
   "metadata": {},
   "outputs": [
    {
     "data": {
      "text/html": [
       "<div>\n",
       "<style scoped>\n",
       "    .dataframe tbody tr th:only-of-type {\n",
       "        vertical-align: middle;\n",
       "    }\n",
       "\n",
       "    .dataframe tbody tr th {\n",
       "        vertical-align: top;\n",
       "    }\n",
       "\n",
       "    .dataframe thead th {\n",
       "        text-align: right;\n",
       "    }\n",
       "</style>\n",
       "<table border=\"1\" class=\"dataframe\">\n",
       "  <thead>\n",
       "    <tr style=\"text-align: right;\">\n",
       "      <th></th>\n",
       "      <th>coin</th>\n",
       "      <th>price</th>\n",
       "      <th>Change_1h</th>\n",
       "      <th>change_24h</th>\n",
       "      <th>change_7d</th>\n",
       "      <th>volume_24h</th>\n",
       "      <th>market_capture</th>\n",
       "    </tr>\n",
       "  </thead>\n",
       "  <tbody>\n",
       "    <tr>\n",
       "      <th>0</th>\n",
       "      <td>Bitcoin</td>\n",
       "      <td>$46,066</td>\n",
       "      <td>-0.2%</td>\n",
       "      <td>1.5%</td>\n",
       "      <td>20.1%</td>\n",
       "      <td>$36,417,385,673</td>\n",
       "      <td>$865,181,173,682</td>\n",
       "    </tr>\n",
       "    <tr>\n",
       "      <th>1</th>\n",
       "      <td>Ethereum</td>\n",
       "      <td>$3,224.64</td>\n",
       "      <td>0.0%</td>\n",
       "      <td>3.9%</td>\n",
       "      <td>27.9%</td>\n",
       "      <td>$32,704,360,531</td>\n",
       "      <td>$377,411,576,297</td>\n",
       "    </tr>\n",
       "    <tr>\n",
       "      <th>2</th>\n",
       "      <td>Tether</td>\n",
       "      <td>$0.998001</td>\n",
       "      <td>0.0%</td>\n",
       "      <td>-0.3%</td>\n",
       "      <td>-0.9%</td>\n",
       "      <td>$72,487,969,010</td>\n",
       "      <td>$62,671,181,181</td>\n",
       "    </tr>\n",
       "    <tr>\n",
       "      <th>3</th>\n",
       "      <td>Binance Coin</td>\n",
       "      <td>$386.47</td>\n",
       "      <td>0.0%</td>\n",
       "      <td>9.4%</td>\n",
       "      <td>19.6%</td>\n",
       "      <td>$2,254,749,103</td>\n",
       "      <td>$59,711,641,852</td>\n",
       "    </tr>\n",
       "    <tr>\n",
       "      <th>4</th>\n",
       "      <td>Cardano</td>\n",
       "      <td>$1.78</td>\n",
       "      <td>0.6%</td>\n",
       "      <td>15.8%</td>\n",
       "      <td>30.1%</td>\n",
       "      <td>$4,903,907,882</td>\n",
       "      <td>$57,125,917,237</td>\n",
       "    </tr>\n",
       "    <tr>\n",
       "      <th>...</th>\n",
       "      <td>...</td>\n",
       "      <td>...</td>\n",
       "      <td>...</td>\n",
       "      <td>...</td>\n",
       "      <td>...</td>\n",
       "      <td>...</td>\n",
       "      <td>...</td>\n",
       "    </tr>\n",
       "    <tr>\n",
       "      <th>95</th>\n",
       "      <td>xSUSHI</td>\n",
       "      <td>$13.41</td>\n",
       "      <td>1.1%</td>\n",
       "      <td>9.6%</td>\n",
       "      <td>40.3%</td>\n",
       "      <td>$2,035,818</td>\n",
       "      <td>$969,145,117</td>\n",
       "    </tr>\n",
       "    <tr>\n",
       "      <th>96</th>\n",
       "      <td>Paxos Standard</td>\n",
       "      <td>$0.999065</td>\n",
       "      <td>0.0%</td>\n",
       "      <td>0.3%</td>\n",
       "      <td>-0.2%</td>\n",
       "      <td>$71,370,390</td>\n",
       "      <td>$930,569,892</td>\n",
       "    </tr>\n",
       "    <tr>\n",
       "      <th>97</th>\n",
       "      <td>Voyager Token</td>\n",
       "      <td>$4.10</td>\n",
       "      <td>2.2%</td>\n",
       "      <td>4.1%</td>\n",
       "      <td>38.6%</td>\n",
       "      <td>$6,632,256</td>\n",
       "      <td>$910,460,025</td>\n",
       "    </tr>\n",
       "    <tr>\n",
       "      <th>98</th>\n",
       "      <td>KuCoin Token</td>\n",
       "      <td>$11.63</td>\n",
       "      <td>1.8%</td>\n",
       "      <td>9.3%</td>\n",
       "      <td>10.7%</td>\n",
       "      <td>$23,578,666</td>\n",
       "      <td>$908,207,564</td>\n",
       "    </tr>\n",
       "    <tr>\n",
       "      <th>99</th>\n",
       "      <td>DigiByte</td>\n",
       "      <td>$0.060697387922</td>\n",
       "      <td>1.0%</td>\n",
       "      <td>5.0%</td>\n",
       "      <td>23.7%</td>\n",
       "      <td>$33,275,847</td>\n",
       "      <td>$885,296,523</td>\n",
       "    </tr>\n",
       "  </tbody>\n",
       "</table>\n",
       "<p>100 rows × 7 columns</p>\n",
       "</div>"
      ],
      "text/plain": [
       "              coin            price Change_1h change_24h change_7d  \\\n",
       "0          Bitcoin          $46,066     -0.2%       1.5%     20.1%   \n",
       "1         Ethereum        $3,224.64      0.0%       3.9%     27.9%   \n",
       "2           Tether        $0.998001      0.0%      -0.3%     -0.9%   \n",
       "3     Binance Coin          $386.47      0.0%       9.4%     19.6%   \n",
       "4          Cardano            $1.78      0.6%      15.8%     30.1%   \n",
       "..             ...              ...       ...        ...       ...   \n",
       "95          xSUSHI           $13.41      1.1%       9.6%     40.3%   \n",
       "96  Paxos Standard        $0.999065      0.0%       0.3%     -0.2%   \n",
       "97   Voyager Token            $4.10      2.2%       4.1%     38.6%   \n",
       "98    KuCoin Token           $11.63      1.8%       9.3%     10.7%   \n",
       "99        DigiByte  $0.060697387922      1.0%       5.0%     23.7%   \n",
       "\n",
       "         volume_24h    market_capture  \n",
       "0   $36,417,385,673  $865,181,173,682  \n",
       "1   $32,704,360,531  $377,411,576,297  \n",
       "2   $72,487,969,010   $62,671,181,181  \n",
       "3    $2,254,749,103   $59,711,641,852  \n",
       "4    $4,903,907,882   $57,125,917,237  \n",
       "..              ...               ...  \n",
       "95       $2,035,818      $969,145,117  \n",
       "96      $71,370,390      $930,569,892  \n",
       "97       $6,632,256      $910,460,025  \n",
       "98      $23,578,666      $908,207,564  \n",
       "99      $33,275,847      $885,296,523  \n",
       "\n",
       "[100 rows x 7 columns]"
      ]
     },
     "execution_count": 42,
     "metadata": {},
     "output_type": "execute_result"
    }
   ],
   "source": [
    "crypto_df"
   ]
  },
  {
   "cell_type": "markdown",
   "metadata": {},
   "source": [
    "# Part-2 pagination -Get 1000 Results"
   ]
  },
  {
   "cell_type": "code",
   "execution_count": 55,
   "metadata": {},
   "outputs": [],
   "source": [
    "Name = []\n",
    "Price= []\n",
    "Change_1h= []\n",
    "change_24h= []\n",
    "change_7d= []\n",
    "volume_24h= []\n",
    "market_capture= []\n",
    "\n",
    "for i in range(1,87):\n",
    "    #website\n",
    "    website='https://www.coingecko.com/en?page='+str(i)\n",
    "    response= rt.get(website)\n",
    "    soup= BeautifulSoup(response.content,'html.parser') \n",
    "    for result in results:\n",
    "        #nmae\n",
    "        try:\n",
    "            Name.append(result.find('a',{'class':'tw-hidden lg:tw-flex font-bold tw-items-center tw-justify-between'}).get_text().strip())\n",
    "        except:\n",
    "            Name.append('n/a')\n",
    "        #price\n",
    "        try:\n",
    "            Price.append(result.find('td',{'class':'td-price'}).get_text().strip())\n",
    "        except:\n",
    "            Price.append('n/a')\n",
    "\n",
    "        #Change_1h\n",
    "        try:\n",
    "            Change_1h.append(result.find('td',{'class':'td-change1h'}).get_text().strip())\n",
    "        except:\n",
    "            Change_1h.append('n/a')\n",
    "\n",
    "        #change_24h\n",
    "        try:\n",
    "            change_24h.append(result.find('td',{'class':'td-change24h'}).get_text().strip())\n",
    "        except:\n",
    "            change_24h.append('n/a')\n",
    "\n",
    "        # change_7d\n",
    "        try:\n",
    "            change_7d.append(result.find('td',{'class':'td-change7d'}).get_text().strip())\n",
    "        except:\n",
    "            change_7d.append('n/a')\n",
    "\n",
    "        # volume_24h\n",
    "        try:\n",
    "            volume_24h.append(result.find('td',{'class':'td-liquidity_score'}).get_text().strip())\n",
    "        except:\n",
    "            volume_24h.append('n/a')\n",
    "\n",
    "         # Market_Capture\n",
    "        try:\n",
    "            market_capture.append(result.find('td',{'class':'td-market_cap'}).get_text().strip())\n",
    "        except:\n",
    "            market_capture.append('n/a')\n",
    "\n",
    "\n",
    "\n"
   ]
  },
  {
   "cell_type": "code",
   "execution_count": 57,
   "metadata": {},
   "outputs": [],
   "source": [
    "crypto_df=pd.DataFrame({'coin':Name ,'price':Price, \"Change_1h\":Change_1h, \"change_24h\":change_24h ,\n",
    "            'change_7d':change_7d , 'volume_24h':volume_24h , ' market_capture': market_capture})"
   ]
  },
  {
   "cell_type": "code",
   "execution_count": 58,
   "metadata": {},
   "outputs": [
    {
     "data": {
      "text/html": [
       "<div>\n",
       "<style scoped>\n",
       "    .dataframe tbody tr th:only-of-type {\n",
       "        vertical-align: middle;\n",
       "    }\n",
       "\n",
       "    .dataframe tbody tr th {\n",
       "        vertical-align: top;\n",
       "    }\n",
       "\n",
       "    .dataframe thead th {\n",
       "        text-align: right;\n",
       "    }\n",
       "</style>\n",
       "<table border=\"1\" class=\"dataframe\">\n",
       "  <thead>\n",
       "    <tr style=\"text-align: right;\">\n",
       "      <th></th>\n",
       "      <th>coin</th>\n",
       "      <th>price</th>\n",
       "      <th>Change_1h</th>\n",
       "      <th>change_24h</th>\n",
       "      <th>change_7d</th>\n",
       "      <th>volume_24h</th>\n",
       "      <th>market_capture</th>\n",
       "    </tr>\n",
       "  </thead>\n",
       "  <tbody>\n",
       "    <tr>\n",
       "      <th>0</th>\n",
       "      <td>Bitcoin</td>\n",
       "      <td>$46,066</td>\n",
       "      <td>-0.2%</td>\n",
       "      <td>1.5%</td>\n",
       "      <td>20.1%</td>\n",
       "      <td>$36,417,385,673</td>\n",
       "      <td>$865,181,173,682</td>\n",
       "    </tr>\n",
       "    <tr>\n",
       "      <th>1</th>\n",
       "      <td>Ethereum</td>\n",
       "      <td>$3,224.64</td>\n",
       "      <td>0.0%</td>\n",
       "      <td>3.9%</td>\n",
       "      <td>27.9%</td>\n",
       "      <td>$32,704,360,531</td>\n",
       "      <td>$377,411,576,297</td>\n",
       "    </tr>\n",
       "    <tr>\n",
       "      <th>2</th>\n",
       "      <td>Tether</td>\n",
       "      <td>$0.998001</td>\n",
       "      <td>0.0%</td>\n",
       "      <td>-0.3%</td>\n",
       "      <td>-0.9%</td>\n",
       "      <td>$72,487,969,010</td>\n",
       "      <td>$62,671,181,181</td>\n",
       "    </tr>\n",
       "    <tr>\n",
       "      <th>3</th>\n",
       "      <td>Binance Coin</td>\n",
       "      <td>$386.47</td>\n",
       "      <td>0.0%</td>\n",
       "      <td>9.4%</td>\n",
       "      <td>19.6%</td>\n",
       "      <td>$2,254,749,103</td>\n",
       "      <td>$59,711,641,852</td>\n",
       "    </tr>\n",
       "    <tr>\n",
       "      <th>4</th>\n",
       "      <td>Cardano</td>\n",
       "      <td>$1.78</td>\n",
       "      <td>0.6%</td>\n",
       "      <td>15.8%</td>\n",
       "      <td>30.1%</td>\n",
       "      <td>$4,903,907,882</td>\n",
       "      <td>$57,125,917,237</td>\n",
       "    </tr>\n",
       "    <tr>\n",
       "      <th>...</th>\n",
       "      <td>...</td>\n",
       "      <td>...</td>\n",
       "      <td>...</td>\n",
       "      <td>...</td>\n",
       "      <td>...</td>\n",
       "      <td>...</td>\n",
       "      <td>...</td>\n",
       "    </tr>\n",
       "    <tr>\n",
       "      <th>8595</th>\n",
       "      <td>xSUSHI</td>\n",
       "      <td>$13.41</td>\n",
       "      <td>1.1%</td>\n",
       "      <td>9.6%</td>\n",
       "      <td>40.3%</td>\n",
       "      <td>$2,035,818</td>\n",
       "      <td>$969,145,117</td>\n",
       "    </tr>\n",
       "    <tr>\n",
       "      <th>8596</th>\n",
       "      <td>Paxos Standard</td>\n",
       "      <td>$0.999065</td>\n",
       "      <td>0.0%</td>\n",
       "      <td>0.3%</td>\n",
       "      <td>-0.2%</td>\n",
       "      <td>$71,370,390</td>\n",
       "      <td>$930,569,892</td>\n",
       "    </tr>\n",
       "    <tr>\n",
       "      <th>8597</th>\n",
       "      <td>Voyager Token</td>\n",
       "      <td>$4.10</td>\n",
       "      <td>2.2%</td>\n",
       "      <td>4.1%</td>\n",
       "      <td>38.6%</td>\n",
       "      <td>$6,632,256</td>\n",
       "      <td>$910,460,025</td>\n",
       "    </tr>\n",
       "    <tr>\n",
       "      <th>8598</th>\n",
       "      <td>KuCoin Token</td>\n",
       "      <td>$11.63</td>\n",
       "      <td>1.8%</td>\n",
       "      <td>9.3%</td>\n",
       "      <td>10.7%</td>\n",
       "      <td>$23,578,666</td>\n",
       "      <td>$908,207,564</td>\n",
       "    </tr>\n",
       "    <tr>\n",
       "      <th>8599</th>\n",
       "      <td>DigiByte</td>\n",
       "      <td>$0.060697387922</td>\n",
       "      <td>1.0%</td>\n",
       "      <td>5.0%</td>\n",
       "      <td>23.7%</td>\n",
       "      <td>$33,275,847</td>\n",
       "      <td>$885,296,523</td>\n",
       "    </tr>\n",
       "  </tbody>\n",
       "</table>\n",
       "<p>8600 rows × 7 columns</p>\n",
       "</div>"
      ],
      "text/plain": [
       "                coin            price Change_1h change_24h change_7d  \\\n",
       "0            Bitcoin          $46,066     -0.2%       1.5%     20.1%   \n",
       "1           Ethereum        $3,224.64      0.0%       3.9%     27.9%   \n",
       "2             Tether        $0.998001      0.0%      -0.3%     -0.9%   \n",
       "3       Binance Coin          $386.47      0.0%       9.4%     19.6%   \n",
       "4            Cardano            $1.78      0.6%      15.8%     30.1%   \n",
       "...              ...              ...       ...        ...       ...   \n",
       "8595          xSUSHI           $13.41      1.1%       9.6%     40.3%   \n",
       "8596  Paxos Standard        $0.999065      0.0%       0.3%     -0.2%   \n",
       "8597   Voyager Token            $4.10      2.2%       4.1%     38.6%   \n",
       "8598    KuCoin Token           $11.63      1.8%       9.3%     10.7%   \n",
       "8599        DigiByte  $0.060697387922      1.0%       5.0%     23.7%   \n",
       "\n",
       "           volume_24h    market_capture  \n",
       "0     $36,417,385,673  $865,181,173,682  \n",
       "1     $32,704,360,531  $377,411,576,297  \n",
       "2     $72,487,969,010   $62,671,181,181  \n",
       "3      $2,254,749,103   $59,711,641,852  \n",
       "4      $4,903,907,882   $57,125,917,237  \n",
       "...               ...               ...  \n",
       "8595       $2,035,818      $969,145,117  \n",
       "8596      $71,370,390      $930,569,892  \n",
       "8597       $6,632,256      $910,460,025  \n",
       "8598      $23,578,666      $908,207,564  \n",
       "8599      $33,275,847      $885,296,523  \n",
       "\n",
       "[8600 rows x 7 columns]"
      ]
     },
     "execution_count": 58,
     "metadata": {},
     "output_type": "execute_result"
    }
   ],
   "source": [
    "crypto_df"
   ]
  },
  {
   "cell_type": "markdown",
   "metadata": {},
   "source": [
    "#  output in Excel"
   ]
  },
  {
   "cell_type": "code",
   "execution_count": 56,
   "metadata": {},
   "outputs": [],
   "source": [
    "crypto_df.to_excel('crypto_data.xlsx',index=False)"
   ]
  },
  {
   "cell_type": "code",
   "execution_count": null,
   "metadata": {},
   "outputs": [],
   "source": []
  }
 ],
 "metadata": {
  "kernelspec": {
   "display_name": "Python 3",
   "language": "python",
   "name": "python3"
  },
  "language_info": {
   "codemirror_mode": {
    "name": "ipython",
    "version": 3
   },
   "file_extension": ".py",
   "mimetype": "text/x-python",
   "name": "python",
   "nbconvert_exporter": "python",
   "pygments_lexer": "ipython3",
   "version": "3.8.5"
  }
 },
 "nbformat": 4,
 "nbformat_minor": 4
}
